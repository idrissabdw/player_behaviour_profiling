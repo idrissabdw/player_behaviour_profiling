{
 "cells": [
  {
   "cell_type": "markdown",
   "id": "69c3498c",
   "metadata": {},
   "source": [
    "### Notebook - Data scrapping of players"
   ]
  },
  {
   "cell_type": "code",
   "execution_count": 1,
   "id": "7939c5b8",
   "metadata": {},
   "outputs": [],
   "source": [
    "import numpy as np\n",
    "import matplotlib.pyplot as plt\n",
    "import pandas as pd\n",
    "from bs4 import BeautifulSoup\n",
    "import requests"
   ]
  },
  {
   "cell_type": "markdown",
   "id": "1f8cf7e5",
   "metadata": {},
   "source": [
    "##### 1. Parsing building"
   ]
  },
  {
   "cell_type": "code",
   "execution_count": 10,
   "id": "2b24bc0b",
   "metadata": {},
   "outputs": [],
   "source": [
    "# Link OP.GG\n",
    "url_test = 'https://op.gg/lol/summoners/euw/Cotchanad%C3%A9-1234'\n",
    "\n",
    "# Parser building\n",
    "r = requests.get(url_test)\n",
    "soup = BeautifulSoup(r.text)\n"
   ]
  },
  {
   "cell_type": "markdown",
   "id": "bca8ef85",
   "metadata": {},
   "source": [
    "##### 2. Data scrapping"
   ]
  },
  {
   "cell_type": "code",
   "execution_count": 17,
   "id": "c200dfdf",
   "metadata": {},
   "outputs": [
    {
     "name": "stdout",
     "output_type": "stream",
     "text": [
      "70W 62L\n"
     ]
    }
   ],
   "source": [
    "# Player Name\n",
    "title = soup.find('title')\n",
    "name = title.text\n",
    "nickname = name.split(' ')[0]\n",
    "\n",
    "\n",
    "# WR\n",
    "games_player = soup.find('span', class_='leading-[26px]')\n",
    "wr_txt = games_player.text\n",
    "print(wr_txt)\n",
    "\n",
    "# KDA\n",
    "\n",
    "# CSing\n",
    "\n",
    "# Gold\n",
    "\n",
    "# DMG\n",
    "\n",
    "# Laning Score\n",
    "\n"
   ]
  },
  {
   "cell_type": "code",
   "execution_count": null,
   "id": "815ab409",
   "metadata": {},
   "outputs": [],
   "source": []
  }
 ],
 "metadata": {
  "kernelspec": {
   "display_name": "perso_env",
   "language": "python",
   "name": "python3"
  },
  "language_info": {
   "codemirror_mode": {
    "name": "ipython",
    "version": 3
   },
   "file_extension": ".py",
   "mimetype": "text/x-python",
   "name": "python",
   "nbconvert_exporter": "python",
   "pygments_lexer": "ipython3",
   "version": "3.11.11"
  }
 },
 "nbformat": 4,
 "nbformat_minor": 5
}
