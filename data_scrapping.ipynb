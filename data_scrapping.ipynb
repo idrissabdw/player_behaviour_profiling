{
 "cells": [
  {
   "cell_type": "markdown",
   "id": "69c3498c",
   "metadata": {},
   "source": [
    "### Notebook - Data scrapping of players"
   ]
  },
  {
   "cell_type": "code",
   "execution_count": 33,
   "id": "7939c5b8",
   "metadata": {},
   "outputs": [],
   "source": [
    "import numpy as np\n",
    "import matplotlib.pyplot as plt\n",
    "import pandas as pd\n",
    "from bs4 import BeautifulSoup\n",
    "import requests\n",
    "import time\n",
    "from dotenv import load_dotenv\n",
    "import os"
   ]
  },
  {
   "cell_type": "markdown",
   "id": "1f8cf7e5",
   "metadata": {},
   "source": [
    "##### 1. User setting\n",
    "\n",
    "In this first part, we will obtain from Riot API, the user PUUID which is the main parameter to obtain in order to get all the important information (kills, gold, cs, etc..)"
   ]
  },
  {
   "cell_type": "code",
   "execution_count": 71,
   "id": "2b24bc0b",
   "metadata": {},
   "outputs": [],
   "source": [
    "# API Key setting\n",
    "load_dotenv(\"api.env\")\n",
    "API_KEY = os.getenv(\"API_KEY\")\n",
    "headers = {\"X-Riot-Token\": API_KEY}\n",
    "\n",
    "# User setting\n",
    "gameName = \"Cotchanadé\"\n",
    "tagLine = \"1234\"\n",
    "region = \"europe\"\n",
    "user_url = f\"https://{region}.api.riotgames.com/riot/account/v1/accounts/by-riot-id/{gameName}/{tagLine}\"\n",
    "\n",
    "# PUUID \n",
    "user_data = requests.get(user_url, headers=headers).json()\n",
    "user_puuid = user_data['puuid']"
   ]
  },
  {
   "cell_type": "markdown",
   "id": "76e3dd7d",
   "metadata": {},
   "source": [
    "##### 2. Statistics parsing"
   ]
  },
  {
   "cell_type": "code",
   "execution_count": null,
   "id": "6a524c92",
   "metadata": {},
   "outputs": [],
   "source": [
    "# Games\n",
    "match_number = 30 \n",
    "match_list_url = f\"https://{region}.api.riotgames.com/lol/match/v5/matches/by-puuid/{user_puuid}/ids?start=0&count={match_number}&queue=420\"\n",
    "match_ids = requests.get(match_list_url, headers=headers).json()\n",
    "\n",
    "i = 0\n",
    "metrics = 8 # (KDA, CS/min, Gold/min, Damage/min, Damage taken/min, Vision Score, KP, Winrate  )\n",
    "stat_data = np.zeros((metrics,match_number))\n",
    "\n",
    "# Statistics Parsing Algorithm \n",
    "for match_id in match_ids:\n",
    "    match_url = f\"https://{region}.api.riotgames.com/lol/match/v5/matches/{match_id}\"\n",
    "    match_data = requests.get(match_url, headers=headers).json()\n",
    "    time_game = match_data['info']['gameDuration']/60\n",
    "    \n",
    "    for p in match_data['info']['participants']:\n",
    "        if p['puuid'] == user_puuid:\n",
    "            if p['deaths'] > 0 :\n",
    "                stat_data[0,i] = (p['kills']+p['assists'])/p['deaths']  # KDA\n",
    "            else :\n",
    "                stat_data[0,i] = p['kills']+p['assists']\n",
    "            \n",
    "            stat_data[1,i] = (p['totalMinionsKilled']+p['neutralMinionsKilled'])/time_game  # CS/min\n",
    "            stat_data[2,i] = p['goldEarned']/time_game  # Gold/min\n",
    "            stat_data[3,i] = p['totalDamageDealtToChampions']/time_game  # Damage/min\n",
    "            stat_data[4,i] = p['totalDamageTaken']/time_game # Damages taken\n",
    "            stat_data[5,i] = p['visionScore']  # Vision Score\n",
    "            stat_data[6,i] = p['challenges']['killParticipation'] # KP\n",
    "            stat_data[7, i] = int(p['win'])\n",
    "    i += 1\n",
    "    time.sleep(1.5)  # Respecte le rate limit !\n",
    "\n",
    "player_stat = []\n",
    "player_stat.append(user_puuid)\n",
    "for i in range (metrics):\n",
    "    player_stat.append(round(np.mean(stat_data[i]),2))\n"
   ]
  },
  {
   "cell_type": "markdown",
   "id": "a2511746",
   "metadata": {},
   "source": [
    "##### 3. Data visualisation"
   ]
  },
  {
   "cell_type": "code",
   "execution_count": 73,
   "id": "ddf97541",
   "metadata": {},
   "outputs": [
    {
     "data": {
      "text/html": [
       "<div>\n",
       "<style scoped>\n",
       "    .dataframe tbody tr th:only-of-type {\n",
       "        vertical-align: middle;\n",
       "    }\n",
       "\n",
       "    .dataframe tbody tr th {\n",
       "        vertical-align: top;\n",
       "    }\n",
       "\n",
       "    .dataframe thead th {\n",
       "        text-align: right;\n",
       "    }\n",
       "</style>\n",
       "<table border=\"1\" class=\"dataframe\">\n",
       "  <thead>\n",
       "    <tr style=\"text-align: right;\">\n",
       "      <th></th>\n",
       "      <th>Valeur</th>\n",
       "    </tr>\n",
       "  </thead>\n",
       "  <tbody>\n",
       "    <tr>\n",
       "      <th>Player PUUID</th>\n",
       "      <td>qyHoh15wLsj8O_4DK-aEONuWqi36NOk_zM2jWZql641zHH...</td>\n",
       "    </tr>\n",
       "    <tr>\n",
       "      <th>KDA</th>\n",
       "      <td>2.68</td>\n",
       "    </tr>\n",
       "    <tr>\n",
       "      <th>CS/min</th>\n",
       "      <td>7.11</td>\n",
       "    </tr>\n",
       "    <tr>\n",
       "      <th>Gold/min</th>\n",
       "      <td>415.44</td>\n",
       "    </tr>\n",
       "    <tr>\n",
       "      <th>Damage/min</th>\n",
       "      <td>657.12</td>\n",
       "    </tr>\n",
       "    <tr>\n",
       "      <th>DamageTaken/min</th>\n",
       "      <td>982.48</td>\n",
       "    </tr>\n",
       "    <tr>\n",
       "      <th>Vision Score</th>\n",
       "      <td>18.13</td>\n",
       "    </tr>\n",
       "    <tr>\n",
       "      <th>Kill Participation</th>\n",
       "      <td>0.38</td>\n",
       "    </tr>\n",
       "    <tr>\n",
       "      <th>Win Rate</th>\n",
       "      <td>0.47</td>\n",
       "    </tr>\n",
       "  </tbody>\n",
       "</table>\n",
       "</div>"
      ],
      "text/plain": [
       "                                                               Valeur\n",
       "Player PUUID        qyHoh15wLsj8O_4DK-aEONuWqi36NOk_zM2jWZql641zHH...\n",
       "KDA                                                              2.68\n",
       "CS/min                                                           7.11\n",
       "Gold/min                                                       415.44\n",
       "Damage/min                                                     657.12\n",
       "DamageTaken/min                                                982.48\n",
       "Vision Score                                                    18.13\n",
       "Kill Participation                                               0.38\n",
       "Win Rate                                                         0.47"
      ]
     },
     "execution_count": 73,
     "metadata": {},
     "output_type": "execute_result"
    }
   ],
   "source": [
    "rows = ['Player PUUID', 'KDA', 'CS/min', 'Gold/min', 'Damage/min', 'DamageTaken/min', 'Vision Score', 'Kill Participation', 'Win Rate']\n",
    "df = pd.DataFrame(player_stat, index=rows, columns=[\"Valeur\"])\n",
    "df"
   ]
  },
  {
   "cell_type": "markdown",
   "id": "d27acd36",
   "metadata": {},
   "source": [
    "##### 4. Scrapping players PUUID"
   ]
  },
  {
   "cell_type": "code",
   "execution_count": null,
   "id": "4ef5eed3",
   "metadata": {},
   "outputs": [],
   "source": []
  }
 ],
 "metadata": {
  "kernelspec": {
   "display_name": "perso_env",
   "language": "python",
   "name": "python3"
  },
  "language_info": {
   "codemirror_mode": {
    "name": "ipython",
    "version": 3
   },
   "file_extension": ".py",
   "mimetype": "text/x-python",
   "name": "python",
   "nbconvert_exporter": "python",
   "pygments_lexer": "ipython3",
   "version": "3.11.11"
  }
 },
 "nbformat": 4,
 "nbformat_minor": 5
}
