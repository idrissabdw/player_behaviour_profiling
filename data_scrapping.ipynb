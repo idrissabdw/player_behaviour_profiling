{
 "cells": [
  {
   "cell_type": "markdown",
   "id": "69c3498c",
   "metadata": {},
   "source": [
    "### Notebook - Data scrapping of players"
   ]
  },
  {
   "cell_type": "code",
   "execution_count": 1,
   "id": "7939c5b8",
   "metadata": {},
   "outputs": [],
   "source": [
    "import numpy as np\n",
    "import matplotlib.pyplot as plt\n",
    "import pandas as pd\n",
    "import requests\n",
    "import time\n",
    "from dotenv import load_dotenv\n",
    "import os"
   ]
  },
  {
   "cell_type": "markdown",
   "id": "1f8cf7e5",
   "metadata": {},
   "source": [
    "This notebook has as goal to quickly explain how I extract the main features from the Riot Games API.\n",
    "From the user's name tag, we can extract is PUUID and then their matches and all the information with."
   ]
  },
  {
   "cell_type": "code",
   "execution_count": 3,
   "id": "2b24bc0b",
   "metadata": {},
   "outputs": [
    {
     "name": "stdout",
     "output_type": "stream",
     "text": [
      "{'puuid': 'qyHoh15wLsj8O_4DK-aEONuWqi36NOk_zM2jWZql641zHHajOf-QHB4YHKpDK_UMnicXYlxgWgqumA', 'gameName': 'Cotchanadé', 'tagLine': '1234'}\n"
     ]
    }
   ],
   "source": [
    "# API Key setting\n",
    "load_dotenv(\"scripts/api.env\")\n",
    "API_KEY = os.getenv(\"API_KEY\")\n",
    "headers = {\"X-Riot-Token\": API_KEY}\n",
    "\n",
    "# User setting\n",
    "gameName = \"Cotchanadé\"\n",
    "tagLine = \"1234\"\n",
    "region = \"europe\"\n",
    "user_url = f\"https://{region}.api.riotgames.com/riot/account/v1/accounts/by-riot-id/{gameName}/{tagLine}\"\n",
    "\n",
    "# PUUID \n",
    "user_data = requests.get(user_url, headers=headers).json()\n",
    "user_puuid = user_data['puuid']\n",
    "print(user_data)"
   ]
  },
  {
   "cell_type": "markdown",
   "id": "76e3dd7d",
   "metadata": {},
   "source": [
    "##### 2. Features extracting from matches"
   ]
  },
  {
   "cell_type": "code",
   "execution_count": 4,
   "id": "6a524c92",
   "metadata": {},
   "outputs": [],
   "source": [
    "# Games\n",
    "match_number = 30 \n",
    "match_list_url = f\"https://{region}.api.riotgames.com/lol/match/v5/matches/by-puuid/{user_puuid}/ids?start=0&count={match_number}&queue=420\"\n",
    "match_ids = requests.get(match_list_url, headers=headers).json()\n",
    "\n",
    "\n",
    "metrics = 8 # (KDA, CS/min, Gold/min, Damage/min, Damage taken/min, Vision Score, KP, Winrate  )\n",
    "stat_data = np.zeros((metrics,match_number))\n",
    "\n",
    "# Featuring Extraction Algorithm \n",
    "for i, match_id in enumerate(match_ids):\n",
    "    match_url = f\"https://{region}.api.riotgames.com/lol/match/v5/matches/{match_id}\"\n",
    "    match_data = requests.get(match_url, headers=headers).json()\n",
    "    time_game = match_data['info']['gameDuration']/60\n",
    "    \n",
    "    for p in match_data['info']['participants']:\n",
    "        if p['puuid'] == user_puuid:\n",
    "            if p['deaths'] > 0 :\n",
    "                stat_data[0,i] = (p['kills']+p['assists'])/p['deaths']  # KDA\n",
    "            else :\n",
    "                stat_data[0,i] = p['kills']+p['assists']\n",
    "            \n",
    "            stat_data[1,i] = (p['totalMinionsKilled']+p['neutralMinionsKilled'])/time_game  # CS/min\n",
    "            stat_data[2,i] = p['goldEarned']/time_game  # Gold/min\n",
    "            stat_data[3,i] = p['totalDamageDealtToChampions']/time_game  # Damage/min\n",
    "            stat_data[4,i] = p['totalDamageTaken']/time_game # Damages taken\n",
    "            stat_data[5,i] = p['visionScore']  # Vision Score\n",
    "            stat_data[6,i] = p['challenges']['killParticipation'] # KP\n",
    "            stat_data[7, i] = int(p['win'])\n",
    "\n",
    "    time.sleep(1.5)  # Respect the rate limit !\n",
    "\n",
    "player_stat = []\n",
    "player_stat.append(user_puuid)\n",
    "for i in range (metrics):\n",
    "    player_stat.append(round(np.mean(stat_data[i]),2))\n"
   ]
  },
  {
   "cell_type": "markdown",
   "id": "a2511746",
   "metadata": {},
   "source": [
    "##### 3. Data visualisation"
   ]
  },
  {
   "cell_type": "code",
   "execution_count": 5,
   "id": "ddf97541",
   "metadata": {},
   "outputs": [
    {
     "data": {
      "text/html": [
       "<div>\n",
       "<style scoped>\n",
       "    .dataframe tbody tr th:only-of-type {\n",
       "        vertical-align: middle;\n",
       "    }\n",
       "\n",
       "    .dataframe tbody tr th {\n",
       "        vertical-align: top;\n",
       "    }\n",
       "\n",
       "    .dataframe thead th {\n",
       "        text-align: right;\n",
       "    }\n",
       "</style>\n",
       "<table border=\"1\" class=\"dataframe\">\n",
       "  <thead>\n",
       "    <tr style=\"text-align: right;\">\n",
       "      <th></th>\n",
       "      <th>Valeur</th>\n",
       "    </tr>\n",
       "  </thead>\n",
       "  <tbody>\n",
       "    <tr>\n",
       "      <th>Player PUUID</th>\n",
       "      <td>qyHoh15wLsj8O_4DK-aEONuWqi36NOk_zM2jWZql641zHH...</td>\n",
       "    </tr>\n",
       "    <tr>\n",
       "      <th>KDA</th>\n",
       "      <td>2.93</td>\n",
       "    </tr>\n",
       "    <tr>\n",
       "      <th>CS/min</th>\n",
       "      <td>6.81</td>\n",
       "    </tr>\n",
       "    <tr>\n",
       "      <th>Gold/min</th>\n",
       "      <td>436.17</td>\n",
       "    </tr>\n",
       "    <tr>\n",
       "      <th>Damage/min</th>\n",
       "      <td>765.26</td>\n",
       "    </tr>\n",
       "    <tr>\n",
       "      <th>DamageTaken/min</th>\n",
       "      <td>998.82</td>\n",
       "    </tr>\n",
       "    <tr>\n",
       "      <th>Vision Score</th>\n",
       "      <td>18.93</td>\n",
       "    </tr>\n",
       "    <tr>\n",
       "      <th>Kill Participation</th>\n",
       "      <td>0.43</td>\n",
       "    </tr>\n",
       "    <tr>\n",
       "      <th>Win Rate</th>\n",
       "      <td>0.43</td>\n",
       "    </tr>\n",
       "  </tbody>\n",
       "</table>\n",
       "</div>"
      ],
      "text/plain": [
       "                                                               Valeur\n",
       "Player PUUID        qyHoh15wLsj8O_4DK-aEONuWqi36NOk_zM2jWZql641zHH...\n",
       "KDA                                                              2.93\n",
       "CS/min                                                           6.81\n",
       "Gold/min                                                       436.17\n",
       "Damage/min                                                     765.26\n",
       "DamageTaken/min                                                998.82\n",
       "Vision Score                                                    18.93\n",
       "Kill Participation                                               0.43\n",
       "Win Rate                                                         0.43"
      ]
     },
     "execution_count": 5,
     "metadata": {},
     "output_type": "execute_result"
    }
   ],
   "source": [
    "rows = ['Player PUUID', 'KDA', 'CS/min', 'Gold/min', 'Damage/min', 'DamageTaken/min', 'Vision Score', 'Kill Participation', 'Win Rate']\n",
    "df = pd.DataFrame(player_stat, index=rows, columns=[\"Valeur\"])\n",
    "df"
   ]
  },
  {
   "cell_type": "markdown",
   "id": "d27acd36",
   "metadata": {},
   "source": [
    "##### 4. Scrapping players PUUID"
   ]
  },
  {
   "cell_type": "code",
   "execution_count": null,
   "id": "4ef5eed3",
   "metadata": {},
   "outputs": [],
   "source": []
  }
 ],
 "metadata": {
  "kernelspec": {
   "display_name": "perso_env",
   "language": "python",
   "name": "python3"
  },
  "language_info": {
   "codemirror_mode": {
    "name": "ipython",
    "version": 3
   },
   "file_extension": ".py",
   "mimetype": "text/x-python",
   "name": "python",
   "nbconvert_exporter": "python",
   "pygments_lexer": "ipython3",
   "version": "3.11.11"
  }
 },
 "nbformat": 4,
 "nbformat_minor": 5
}
