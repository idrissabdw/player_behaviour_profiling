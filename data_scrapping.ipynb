{
 "cells": [
  {
   "cell_type": "markdown",
   "id": "69c3498c",
   "metadata": {},
   "source": [
    "### Notebook - Data scrapping of players"
   ]
  },
  {
   "cell_type": "code",
   "execution_count": 2,
   "id": "7939c5b8",
   "metadata": {},
   "outputs": [],
   "source": [
    "import numpy as np\n",
    "import matplotlib.pyplot as plt\n",
    "import pandas as pd\n",
    "from bs4 import BeautifulSoup\n",
    "import requests"
   ]
  },
  {
   "cell_type": "markdown",
   "id": "1f8cf7e5",
   "metadata": {},
   "source": [
    "##### 1. Parsing building"
   ]
  },
  {
   "cell_type": "code",
   "execution_count": 34,
   "id": "2b24bc0b",
   "metadata": {},
   "outputs": [],
   "source": [
    "# Link OP.GG\n",
    "url_test = 'https://www.leagueofgraphs.com/fr/summoner/euw/Cotchanad%C3%A9-1234'\n",
    "\n",
    "# Parser building\n",
    "r = requests.get(url_test)\n",
    "soup = soup = BeautifulSoup(r.text, 'html.parser')\n",
    "# Sauvegarde dans un fichier texte\n",
    "with open('leagueofgraph.txt', 'w', encoding='utf-8') as f:\n",
    "    f.write(soup.prettify())  # Utilise prettify() pour une indentation lisible\n"
   ]
  },
  {
   "cell_type": "markdown",
   "id": "bca8ef85",
   "metadata": {},
   "source": [
    "##### 2. General Information about the player"
   ]
  },
  {
   "cell_type": "markdown",
   "id": "56354b3a",
   "metadata": {},
   "source": []
  },
  {
   "cell_type": "code",
   "execution_count": null,
   "id": "c200dfdf",
   "metadata": {},
   "outputs": [
    {
     "ename": "AttributeError",
     "evalue": "'NoneType' object has no attribute 'text'",
     "output_type": "error",
     "traceback": [
      "\u001b[31m---------------------------------------------------------------------------\u001b[39m",
      "\u001b[31mAttributeError\u001b[39m                            Traceback (most recent call last)",
      "\u001b[36mCell\u001b[39m\u001b[36m \u001b[39m\u001b[32mIn[33]\u001b[39m\u001b[32m, line 3\u001b[39m\n\u001b[32m      1\u001b[39m \u001b[38;5;66;03m# Player Name\u001b[39;00m\n\u001b[32m      2\u001b[39m title = soup.find(\u001b[33m'\u001b[39m\u001b[33mdiv\u001b[39m\u001b[33m'\u001b[39m, class_=\u001b[33m'\u001b[39m\u001b[33mtxt\u001b[39m\u001b[33m'\u001b[39m)\n\u001b[32m----> \u001b[39m\u001b[32m3\u001b[39m name = title.text\n\u001b[32m      4\u001b[39m \u001b[38;5;28mprint\u001b[39m(name)\n\u001b[32m      5\u001b[39m nickname = name.split(\u001b[33m'\u001b[39m\u001b[33m \u001b[39m\u001b[33m'\u001b[39m)[\u001b[32m0\u001b[39m]\n",
      "\u001b[31mAttributeError\u001b[39m: 'NoneType' object has no attribute 'text'"
     ]
    }
   ],
   "source": [
    "# Player Name\n",
    "title = soup.find('div', class_='txt')\n",
    "name = title.text\n",
    "print(name)\n",
    "nickname = name.split(' ')[0]\n",
    "print('The player\\'s name is',nickname)\n",
    "\n",
    "# WR\n",
    "games_opgg = soup.find('span', class_='leading-[26px]')\n",
    "games_opgg_txt = games_opgg.text.split()\n",
    "wins = int(''.join(c for c in games_opgg_txt[0] if c.isdigit()))\n",
    "looses = int(''.join(c for c in games_opgg_txt[1] if c.isdigit()))\n",
    "\n",
    "games = wins + looses\n",
    "winrate = round(wins/(games),2)\n",
    "print('The player played ' + str(games) + ' games')\n",
    "print('The player has a current winrate of ' + str(winrate*100) + '%')\n",
    "\n",
    "# Rank\n",
    "rank_opgg = soup.find('strong', class_='text-xl first-letter:uppercase')\n",
    "rank = rank_opgg.text.strip()\n",
    "print('The player current rank is',rank)\n"
   ]
  },
  {
   "cell_type": "markdown",
   "id": "014818d0",
   "metadata": {},
   "source": [
    "##### 3. Specific data about the player"
   ]
  },
  {
   "cell_type": "code",
   "execution_count": 27,
   "id": "815ab409",
   "metadata": {},
   "outputs": [],
   "source": [
    "# Specific data\n",
    "url_data = 'https://op.gg/lol/summoners/euw/Cotchanad%C3%A9-1234/champions?queue_type=SOLORANKED'\n",
    "\n",
    "# Parser building\n",
    "r = requests.get(url_test)\n",
    "soup = soup = BeautifulSoup(r.text, 'html.parser')\n",
    "\n",
    "# Sauvegarde dans un fichier texte\n",
    "with open('specific_data_opgg.txt', 'w', encoding='utf-8') as f:\n",
    "    f.write(soup.prettify())  # Utilise prettify() pour une indentation lisible"
   ]
  },
  {
   "cell_type": "code",
   "execution_count": 24,
   "id": "0d7aa69a",
   "metadata": {},
   "outputs": [
    {
     "ename": "AttributeError",
     "evalue": "'NoneType' object has no attribute 'text'",
     "output_type": "error",
     "traceback": [
      "\u001b[31m---------------------------------------------------------------------------\u001b[39m",
      "\u001b[31mAttributeError\u001b[39m                            Traceback (most recent call last)",
      "\u001b[36mCell\u001b[39m\u001b[36m \u001b[39m\u001b[32mIn[24]\u001b[39m\u001b[32m, line 3\u001b[39m\n\u001b[32m      1\u001b[39m \u001b[38;5;66;03m# KDA\u001b[39;00m\n\u001b[32m      2\u001b[39m kda_opgg = soup.find(\u001b[33m'\u001b[39m\u001b[33mspan\u001b[39m\u001b[33m'\u001b[39m, class_=\u001b[33m'\u001b[39m\u001b[33mhidden text-2xs md:inline\u001b[39m\u001b[33m'\u001b[39m)\n\u001b[32m----> \u001b[39m\u001b[32m3\u001b[39m kda_opgg_txt = kda_opgg.text.split()\n",
      "\u001b[31mAttributeError\u001b[39m: 'NoneType' object has no attribute 'text'"
     ]
    }
   ],
   "source": [
    "# KDA\n",
    "kda_opgg = soup.find('span', class_='hidden text-2xs md:inline')\n",
    "kda_opgg_txt = kda_opgg.text.split()"
   ]
  },
  {
   "cell_type": "code",
   "execution_count": null,
   "id": "fb33f6e0",
   "metadata": {},
   "outputs": [],
   "source": []
  }
 ],
 "metadata": {
  "kernelspec": {
   "display_name": "perso_env",
   "language": "python",
   "name": "python3"
  },
  "language_info": {
   "codemirror_mode": {
    "name": "ipython",
    "version": 3
   },
   "file_extension": ".py",
   "mimetype": "text/x-python",
   "name": "python",
   "nbconvert_exporter": "python",
   "pygments_lexer": "ipython3",
   "version": "3.11.11"
  }
 },
 "nbformat": 4,
 "nbformat_minor": 5
}
